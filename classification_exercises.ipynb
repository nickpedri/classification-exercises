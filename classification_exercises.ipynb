{
 "cells": [
  {
   "cell_type": "markdown",
   "id": "da5dde59-099a-4c3a-adfb-9a3d8013c497",
   "metadata": {},
   "source": [
    "1. Make a new repo called classification-exercises on both GitHub and within your codeup-data-science directory. This will be where you do your work for this module."
   ]
  },
  {
   "cell_type": "code",
   "execution_count": null,
   "id": "6e8a927a-492a-43cf-ac3a-04bb3a4862ff",
   "metadata": {},
   "outputs": [],
   "source": [
    "# Done"
   ]
  },
  {
   "cell_type": "markdown",
   "id": "ee3b672d-b355-4d26-92c7-9534a8f67f85",
   "metadata": {},
   "source": [
    "2. Inside of your local classification-exercises repo, create a file named .gitignore with the following contents:\n",
    "* env.py\n",
    "* .DS_Store\n",
    "* .ipynb_checkpoints/\n",
    "* __pycache__\n",
    "* *.csv\n",
    "\n",
    "Add and commit your .gitignore file before moving forward."
   ]
  },
  {
   "cell_type": "code",
   "execution_count": null,
   "id": "adace747-aaa3-47e1-b826-812d6140d54b",
   "metadata": {},
   "outputs": [],
   "source": [
    "# Done"
   ]
  },
  {
   "cell_type": "markdown",
   "id": "9216a26e-46b9-49d1-809d-ea4cfa9c76e5",
   "metadata": {},
   "source": [
    "3. "
   ]
  },
  {
   "cell_type": "markdown",
   "id": "47d0360c-2a75-4745-8a5c-dc31d4620e6d",
   "metadata": {},
   "source": []
  },
  {
   "cell_type": "markdown",
   "id": "194e6e69-be74-44c3-8e1f-9d4ff10b978c",
   "metadata": {},
   "source": []
  },
  {
   "cell_type": "markdown",
   "id": "e2346549-abd0-4fec-b5bd-61a7b81da748",
   "metadata": {},
   "source": []
  }
 ],
 "metadata": {
  "kernelspec": {
   "display_name": "Python 3 (ipykernel)",
   "language": "python",
   "name": "python3"
  },
  "language_info": {
   "codemirror_mode": {
    "name": "ipython",
    "version": 3
   },
   "file_extension": ".py",
   "mimetype": "text/x-python",
   "name": "python",
   "nbconvert_exporter": "python",
   "pygments_lexer": "ipython3",
   "version": "3.10.9"
  }
 },
 "nbformat": 4,
 "nbformat_minor": 5
}
