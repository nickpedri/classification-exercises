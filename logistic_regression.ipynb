{
 "cells": [
  {
   "cell_type": "markdown",
   "id": "eb35d6bc-efa3-4995-8498-aff0f23480b0",
   "metadata": {
    "tags": []
   },
   "source": [
    "# Logistic Regression Exercises"
   ]
  },
  {
   "cell_type": "markdown",
   "id": "7d363836-0e4d-44d0-b494-f3f5cd24c425",
   "metadata": {},
   "source": [
    "## In these exercises, we'll continue working with the titanic dataset and building logistic regression models. Throughout this exercise, be sure you are training, evaluation, and comparing models on the train and validate datasets. The test dataset should only be used for your final model. For all of the models you create, choose a threshold that optimizes for accuracy. Create a new notebook, logistic_regression, use it to answer the following questions:"
   ]
  },
  {
   "cell_type": "code",
   "execution_count": 1,
   "id": "ebe3b84f-8fe3-44b2-8f82-5692b8471128",
   "metadata": {},
   "outputs": [],
   "source": [
    "import pandas as pd\n",
    "import numpy as np\n",
    "import matplotlib.pyplot as plt\n",
    "import seaborn as sns\n",
    "\n",
    "from sklearn.preprocessing import MinMaxScaler\n",
    "from sklearn.linear_model import LogisticRegression\n",
    "import acquire as ac\n",
    "import prepare as prep\n",
    "\n",
    "seed = 100"
   ]
  },
  {
   "cell_type": "markdown",
   "id": "ee1a5f3f-8bb9-40a0-a473-02978b08fcad",
   "metadata": {},
   "source": [
    "### 1. Create a model that includes only age, fare, and pclass. Does this model perform better than your baseline?"
   ]
  },
  {
   "cell_type": "code",
   "execution_count": 2,
   "id": "88c432d6-989c-4327-bd63-c096d914ca41",
   "metadata": {},
   "outputs": [],
   "source": [
    "t = prep.titanic()\n",
    "\n",
    "train, val, test = prep.train_val_test(t,'survived')\n",
    "\n",
    "x_train, y_train = prep.split_x_y(train,'survived')\n",
    "x_val, y_val = prep.split_x_y(val,'survived')"
   ]
  },
  {
   "cell_type": "code",
   "execution_count": 3,
   "id": "25d20f01-b905-499b-92d0-43e917382453",
   "metadata": {},
   "outputs": [
    {
     "name": "stdout",
     "output_type": "stream",
     "text": [
      "Baseline accuracy is: 61.64%.\n",
      "Baseline recall is: 0.0%.\n",
      "Baseline precision is: 0.0%.\n",
      "\n"
     ]
    }
   ],
   "source": [
    "prep.baseline(train, 'survived', 1)"
   ]
  },
  {
   "cell_type": "code",
   "execution_count": 4,
   "id": "af5e79f8-fbf5-43fd-b96b-f8771b0c9ab9",
   "metadata": {},
   "outputs": [
    {
     "data": {
      "text/html": [
       "<div>\n",
       "<style scoped>\n",
       "    .dataframe tbody tr th:only-of-type {\n",
       "        vertical-align: middle;\n",
       "    }\n",
       "\n",
       "    .dataframe tbody tr th {\n",
       "        vertical-align: top;\n",
       "    }\n",
       "\n",
       "    .dataframe thead th {\n",
       "        text-align: right;\n",
       "    }\n",
       "</style>\n",
       "<table border=\"1\" class=\"dataframe\">\n",
       "  <thead>\n",
       "    <tr style=\"text-align: right;\">\n",
       "      <th></th>\n",
       "      <th>survived</th>\n",
       "      <th>age</th>\n",
       "      <th>sibsp</th>\n",
       "      <th>parch</th>\n",
       "      <th>fare</th>\n",
       "      <th>alone</th>\n",
       "      <th>sex_male</th>\n",
       "      <th>class_First</th>\n",
       "      <th>class_Second</th>\n",
       "      <th>class_Third</th>\n",
       "      <th>embark_town_Cherbourg</th>\n",
       "      <th>embark_town_Queenstown</th>\n",
       "      <th>embark_town_Southampton</th>\n",
       "    </tr>\n",
       "  </thead>\n",
       "  <tbody>\n",
       "    <tr>\n",
       "      <th>410</th>\n",
       "      <td>0</td>\n",
       "      <td>28.0</td>\n",
       "      <td>0</td>\n",
       "      <td>0</td>\n",
       "      <td>7.8958</td>\n",
       "      <td>1</td>\n",
       "      <td>1</td>\n",
       "      <td>0</td>\n",
       "      <td>0</td>\n",
       "      <td>1</td>\n",
       "      <td>0</td>\n",
       "      <td>0</td>\n",
       "      <td>1</td>\n",
       "    </tr>\n",
       "    <tr>\n",
       "      <th>824</th>\n",
       "      <td>0</td>\n",
       "      <td>2.0</td>\n",
       "      <td>4</td>\n",
       "      <td>1</td>\n",
       "      <td>39.6875</td>\n",
       "      <td>0</td>\n",
       "      <td>1</td>\n",
       "      <td>0</td>\n",
       "      <td>0</td>\n",
       "      <td>1</td>\n",
       "      <td>0</td>\n",
       "      <td>0</td>\n",
       "      <td>1</td>\n",
       "    </tr>\n",
       "    <tr>\n",
       "      <th>11</th>\n",
       "      <td>1</td>\n",
       "      <td>58.0</td>\n",
       "      <td>0</td>\n",
       "      <td>0</td>\n",
       "      <td>26.5500</td>\n",
       "      <td>1</td>\n",
       "      <td>0</td>\n",
       "      <td>1</td>\n",
       "      <td>0</td>\n",
       "      <td>0</td>\n",
       "      <td>0</td>\n",
       "      <td>0</td>\n",
       "      <td>1</td>\n",
       "    </tr>\n",
       "    <tr>\n",
       "      <th>851</th>\n",
       "      <td>0</td>\n",
       "      <td>74.0</td>\n",
       "      <td>0</td>\n",
       "      <td>0</td>\n",
       "      <td>7.7750</td>\n",
       "      <td>1</td>\n",
       "      <td>1</td>\n",
       "      <td>0</td>\n",
       "      <td>0</td>\n",
       "      <td>1</td>\n",
       "      <td>0</td>\n",
       "      <td>0</td>\n",
       "      <td>1</td>\n",
       "    </tr>\n",
       "    <tr>\n",
       "      <th>219</th>\n",
       "      <td>0</td>\n",
       "      <td>30.0</td>\n",
       "      <td>0</td>\n",
       "      <td>0</td>\n",
       "      <td>10.5000</td>\n",
       "      <td>1</td>\n",
       "      <td>1</td>\n",
       "      <td>0</td>\n",
       "      <td>1</td>\n",
       "      <td>0</td>\n",
       "      <td>0</td>\n",
       "      <td>0</td>\n",
       "      <td>1</td>\n",
       "    </tr>\n",
       "  </tbody>\n",
       "</table>\n",
       "</div>"
      ],
      "text/plain": [
       "     survived   age  sibsp  parch     fare  alone  sex_male  class_First  \\\n",
       "410         0  28.0      0      0   7.8958      1         1            0   \n",
       "824         0   2.0      4      1  39.6875      0         1            0   \n",
       "11          1  58.0      0      0  26.5500      1         0            1   \n",
       "851         0  74.0      0      0   7.7750      1         1            0   \n",
       "219         0  30.0      0      0  10.5000      1         1            0   \n",
       "\n",
       "     class_Second  class_Third  embark_town_Cherbourg  embark_town_Queenstown  \\\n",
       "410             0            1                      0                       0   \n",
       "824             0            1                      0                       0   \n",
       "11              0            0                      0                       0   \n",
       "851             0            1                      0                       0   \n",
       "219             1            0                      0                       0   \n",
       "\n",
       "     embark_town_Southampton  \n",
       "410                        1  \n",
       "824                        1  \n",
       "11                         1  \n",
       "851                        1  \n",
       "219                        1  "
      ]
     },
     "execution_count": 4,
     "metadata": {},
     "output_type": "execute_result"
    }
   ],
   "source": [
    "train.head()"
   ]
  },
  {
   "cell_type": "code",
   "execution_count": 5,
   "id": "299ce6cf-528e-4566-be75-e3b07e4596f2",
   "metadata": {},
   "outputs": [
    {
     "data": {
      "text/plain": [
       "Index(['survived', 'age', 'sibsp', 'parch', 'fare', 'alone', 'sex_male',\n",
       "       'class_First', 'class_Second', 'class_Third', 'embark_town_Cherbourg',\n",
       "       'embark_town_Queenstown', 'embark_town_Southampton'],\n",
       "      dtype='object')"
      ]
     },
     "execution_count": 5,
     "metadata": {},
     "output_type": "execute_result"
    }
   ],
   "source": [
    "train.columns"
   ]
  },
  {
   "cell_type": "code",
   "execution_count": 6,
   "id": "5aa43621-0e20-444a-8bf0-00cc46ad5a88",
   "metadata": {},
   "outputs": [
    {
     "data": {
      "text/plain": [
       "(0.7014446227929374, 0.6791044776119403)"
      ]
     },
     "execution_count": 6,
     "metadata": {},
     "output_type": "execute_result"
    }
   ],
   "source": [
    "new = ['survived', 'age', 'fare', 'class_First', 'class_Second', 'class_Third']\n",
    "\n",
    "new_df = pd.DataFrame()\n",
    "\n",
    "for n in new:\n",
    "    new_df[n] = t[n]\n",
    "new_df\n",
    "\n",
    "train, val, test = prep.train_val_test(new_df,'survived')\n",
    "x_train, y_train = prep.split_x_y(train,'survived')\n",
    "x_val, y_val = prep.split_x_y(val,'survived')\n",
    "\n",
    "logreg = LogisticRegression(random_state = seed, max_iter = 400)\n",
    "\n",
    "logreg.fit(x_train, y_train)\n",
    "\n",
    "logreg.score(x_train, y_train), logreg.score(x_val, y_val)"
   ]
  },
  {
   "cell_type": "code",
   "execution_count": 7,
   "id": "1d0e05f0-7117-4e79-b0eb-8c86d2dde97d",
   "metadata": {},
   "outputs": [],
   "source": [
    "# It performs barely better than the baseline at around 6% better"
   ]
  },
  {
   "cell_type": "markdown",
   "id": "cb0ca29c-c564-4670-8b0c-6dc40e3dd779",
   "metadata": {},
   "source": [
    "### 2. Include sex in your model as well. Note that you'll need to encode or create a dummy variable of this feature before including it in a model."
   ]
  },
  {
   "cell_type": "code",
   "execution_count": 8,
   "id": "9de879fa-e11b-4269-97f0-cd7b90f09b74",
   "metadata": {},
   "outputs": [
    {
     "data": {
      "text/plain": [
       "(0.797752808988764, 0.7686567164179104)"
      ]
     },
     "execution_count": 8,
     "metadata": {},
     "output_type": "execute_result"
    }
   ],
   "source": [
    "new = ['survived', 'age', 'fare', 'class_First', 'class_Second', 'class_Third', 'sex_male']\n",
    "\n",
    "new_df = pd.DataFrame()\n",
    "\n",
    "for n in new:\n",
    "    new_df[n] = t[n]\n",
    "new_df\n",
    "\n",
    "train, val, test = prep.train_val_test(new_df,'survived')\n",
    "x_train, y_train = prep.split_x_y(train,'survived')\n",
    "x_val, y_val = prep.split_x_y(val,'survived')\n",
    "\n",
    "logreg = LogisticRegression(random_state = seed, max_iter = 100)\n",
    "\n",
    "logreg.fit(x_train, y_train)\n",
    "\n",
    "logreg.score(x_train, y_train), logreg.score(x_val, y_val)"
   ]
  },
  {
   "cell_type": "markdown",
   "id": "ff642d76-c48f-4bee-a91d-7dd0483d1c51",
   "metadata": {},
   "source": [
    "### 3. Try out other combinations of features and models."
   ]
  },
  {
   "cell_type": "code",
   "execution_count": 9,
   "id": "c7c3dccf-b3b6-47bb-bcb9-5ec90f7051ec",
   "metadata": {},
   "outputs": [
    {
     "data": {
      "text/plain": [
       "(0.797752808988764, 0.7686567164179104)"
      ]
     },
     "execution_count": 9,
     "metadata": {},
     "output_type": "execute_result"
    }
   ],
   "source": [
    "new = ['survived', 'age', 'fare', 'class_First', 'class_Second', 'class_Third', 'sex_male']\n",
    "\n",
    "new_df = pd.DataFrame()\n",
    "\n",
    "for n in new:\n",
    "    new_df[n] = t[n]\n",
    "new_df\n",
    "\n",
    "train, val, test = prep.train_val_test(new_df,'survived')\n",
    "x_train, y_train = prep.split_x_y(train,'survived')\n",
    "x_val, y_val = prep.split_x_y(val,'survived')\n",
    "\n",
    "logreg = LogisticRegression(random_state = seed, max_iter = 100)\n",
    "\n",
    "logreg.fit(x_train, y_train)\n",
    "\n",
    "logreg.score(x_train, y_train), logreg.score(x_val, y_val)"
   ]
  },
  {
   "cell_type": "markdown",
   "id": "ba1a1080-c940-4e0a-a1f4-3b264a4c5196",
   "metadata": {},
   "source": [
    "### 4. Use you best 3 models to predict and evaluate on your validate sample."
   ]
  },
  {
   "cell_type": "markdown",
   "id": "849afe55-de95-4a60-9972-97aac2922ea0",
   "metadata": {},
   "source": [
    "### 5. Choose you best model from the validation performation, and evaluate it on the test dataset. How do the performance metrics compare to validate? to train?"
   ]
  }
 ],
 "metadata": {
  "kernelspec": {
   "display_name": "Python 3 (ipykernel)",
   "language": "python",
   "name": "python3"
  },
  "language_info": {
   "codemirror_mode": {
    "name": "ipython",
    "version": 3
   },
   "file_extension": ".py",
   "mimetype": "text/x-python",
   "name": "python",
   "nbconvert_exporter": "python",
   "pygments_lexer": "ipython3",
   "version": "3.10.9"
  }
 },
 "nbformat": 4,
 "nbformat_minor": 5
}
