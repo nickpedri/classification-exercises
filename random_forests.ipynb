{
 "cells": [
  {
   "cell_type": "markdown",
   "id": "36d4fbe9-ed03-42b8-8d72-9b0a15ec586c",
   "metadata": {},
   "source": [
    "# Random Forest Exercises"
   ]
  },
  {
   "cell_type": "markdown",
   "id": "76e9aaf9-4e1d-47c4-acb8-fb3a9eff07d0",
   "metadata": {
    "tags": []
   },
   "source": [
    "## Create a new notebook, random_forests, and work with titanic data to do the following:"
   ]
  },
  {
   "cell_type": "code",
   "execution_count": 1,
   "id": "c30533df-b6bd-4062-b855-ece1cffb2037",
   "metadata": {},
   "outputs": [],
   "source": [
    "import pandas as pd\n",
    "import numpy as np\n",
    "\n",
    "import matplotlib.pyplot as plt\n",
    "\n",
    "from sklearn.ensemble import RandomForestClassifier\n",
    "from sklearn.metrics import classification_report\n",
    "import acquire as ac\n",
    "import prepare as prep\n",
    "\n",
    "seed = 100"
   ]
  },
  {
   "cell_type": "markdown",
   "id": "b13c40cd-6bbc-44be-b600-a03fd35e6fdf",
   "metadata": {
    "tags": []
   },
   "source": [
    "### 1. Fit the Random Forest classifier to your training sample and transform (i.e. make predictions on the training sample) setting the random_state accordingly and setting min_samples_leaf = 1 and max_depth = 10."
   ]
  },
  {
   "cell_type": "code",
   "execution_count": 2,
   "id": "6acd1ce2-d33f-4792-89f5-e048dd5fb4f5",
   "metadata": {},
   "outputs": [],
   "source": [
    "titanic = prep.titanic()\n",
    "train, val, test = prep.train_val_test(titanic, strat='survived')\n",
    "x_train, y_train = prep.split_x_y(train, 'survived')\n",
    "x_val, y_val = prep.split_x_y(val, 'survived')"
   ]
  },
  {
   "cell_type": "code",
   "execution_count": 3,
   "id": "34631408-4954-41a2-aa3e-b17487eb5628",
   "metadata": {},
   "outputs": [
    {
     "name": "stdout",
     "output_type": "stream",
     "text": [
      "Baseline accuracy is: 61.64%.\n",
      "Baseline recall is: 0.0%.\n",
      "Baseline precision is: 0.0%.\n",
      "\n"
     ]
    }
   ],
   "source": [
    "prep.baseline(train, 'survived', 1)  # Baseline scores"
   ]
  },
  {
   "cell_type": "code",
   "execution_count": 4,
   "id": "9157bcbf-b341-4c30-bea8-cba333d462a5",
   "metadata": {},
   "outputs": [
    {
     "data": {
      "text/html": [
       "<style>#sk-container-id-1 {color: black;background-color: white;}#sk-container-id-1 pre{padding: 0;}#sk-container-id-1 div.sk-toggleable {background-color: white;}#sk-container-id-1 label.sk-toggleable__label {cursor: pointer;display: block;width: 100%;margin-bottom: 0;padding: 0.3em;box-sizing: border-box;text-align: center;}#sk-container-id-1 label.sk-toggleable__label-arrow:before {content: \"▸\";float: left;margin-right: 0.25em;color: #696969;}#sk-container-id-1 label.sk-toggleable__label-arrow:hover:before {color: black;}#sk-container-id-1 div.sk-estimator:hover label.sk-toggleable__label-arrow:before {color: black;}#sk-container-id-1 div.sk-toggleable__content {max-height: 0;max-width: 0;overflow: hidden;text-align: left;background-color: #f0f8ff;}#sk-container-id-1 div.sk-toggleable__content pre {margin: 0.2em;color: black;border-radius: 0.25em;background-color: #f0f8ff;}#sk-container-id-1 input.sk-toggleable__control:checked~div.sk-toggleable__content {max-height: 200px;max-width: 100%;overflow: auto;}#sk-container-id-1 input.sk-toggleable__control:checked~label.sk-toggleable__label-arrow:before {content: \"▾\";}#sk-container-id-1 div.sk-estimator input.sk-toggleable__control:checked~label.sk-toggleable__label {background-color: #d4ebff;}#sk-container-id-1 div.sk-label input.sk-toggleable__control:checked~label.sk-toggleable__label {background-color: #d4ebff;}#sk-container-id-1 input.sk-hidden--visually {border: 0;clip: rect(1px 1px 1px 1px);clip: rect(1px, 1px, 1px, 1px);height: 1px;margin: -1px;overflow: hidden;padding: 0;position: absolute;width: 1px;}#sk-container-id-1 div.sk-estimator {font-family: monospace;background-color: #f0f8ff;border: 1px dotted black;border-radius: 0.25em;box-sizing: border-box;margin-bottom: 0.5em;}#sk-container-id-1 div.sk-estimator:hover {background-color: #d4ebff;}#sk-container-id-1 div.sk-parallel-item::after {content: \"\";width: 100%;border-bottom: 1px solid gray;flex-grow: 1;}#sk-container-id-1 div.sk-label:hover label.sk-toggleable__label {background-color: #d4ebff;}#sk-container-id-1 div.sk-serial::before {content: \"\";position: absolute;border-left: 1px solid gray;box-sizing: border-box;top: 0;bottom: 0;left: 50%;z-index: 0;}#sk-container-id-1 div.sk-serial {display: flex;flex-direction: column;align-items: center;background-color: white;padding-right: 0.2em;padding-left: 0.2em;position: relative;}#sk-container-id-1 div.sk-item {position: relative;z-index: 1;}#sk-container-id-1 div.sk-parallel {display: flex;align-items: stretch;justify-content: center;background-color: white;position: relative;}#sk-container-id-1 div.sk-item::before, #sk-container-id-1 div.sk-parallel-item::before {content: \"\";position: absolute;border-left: 1px solid gray;box-sizing: border-box;top: 0;bottom: 0;left: 50%;z-index: -1;}#sk-container-id-1 div.sk-parallel-item {display: flex;flex-direction: column;z-index: 1;position: relative;background-color: white;}#sk-container-id-1 div.sk-parallel-item:first-child::after {align-self: flex-end;width: 50%;}#sk-container-id-1 div.sk-parallel-item:last-child::after {align-self: flex-start;width: 50%;}#sk-container-id-1 div.sk-parallel-item:only-child::after {width: 0;}#sk-container-id-1 div.sk-dashed-wrapped {border: 1px dashed gray;margin: 0 0.4em 0.5em 0.4em;box-sizing: border-box;padding-bottom: 0.4em;background-color: white;}#sk-container-id-1 div.sk-label label {font-family: monospace;font-weight: bold;display: inline-block;line-height: 1.2em;}#sk-container-id-1 div.sk-label-container {text-align: center;}#sk-container-id-1 div.sk-container {/* jupyter's `normalize.less` sets `[hidden] { display: none; }` but bootstrap.min.css set `[hidden] { display: none !important; }` so we also need the `!important` here to be able to override the default hidden behavior on the sphinx rendered scikit-learn.org. See: https://github.com/scikit-learn/scikit-learn/issues/21755 */display: inline-block !important;position: relative;}#sk-container-id-1 div.sk-text-repr-fallback {display: none;}</style><div id=\"sk-container-id-1\" class=\"sk-top-container\"><div class=\"sk-text-repr-fallback\"><pre>RandomForestClassifier(max_depth=10, random_state=100)</pre><b>In a Jupyter environment, please rerun this cell to show the HTML representation or trust the notebook. <br />On GitHub, the HTML representation is unable to render, please try loading this page with nbviewer.org.</b></div><div class=\"sk-container\" hidden><div class=\"sk-item\"><div class=\"sk-estimator sk-toggleable\"><input class=\"sk-toggleable__control sk-hidden--visually\" id=\"sk-estimator-id-1\" type=\"checkbox\" checked><label for=\"sk-estimator-id-1\" class=\"sk-toggleable__label sk-toggleable__label-arrow\">RandomForestClassifier</label><div class=\"sk-toggleable__content\"><pre>RandomForestClassifier(max_depth=10, random_state=100)</pre></div></div></div></div></div>"
      ],
      "text/plain": [
       "RandomForestClassifier(max_depth=10, random_state=100)"
      ]
     },
     "execution_count": 4,
     "metadata": {},
     "output_type": "execute_result"
    }
   ],
   "source": [
    "rf1 = RandomForestClassifier(max_depth=10, min_samples_leaf=1, random_state=seed)\n",
    "rf1.fit(x_train, y_train)"
   ]
  },
  {
   "cell_type": "code",
   "execution_count": 5,
   "id": "d4103b37-7935-425a-88e6-8db9825ddf85",
   "metadata": {},
   "outputs": [],
   "source": [
    "rf1_pred = rf1.predict(x_train)"
   ]
  },
  {
   "cell_type": "markdown",
   "id": "dd67c299-741f-42d5-b9ce-8a54820fb326",
   "metadata": {},
   "source": [
    "### 2. Evaluate your results using the model score, confusion matrix, and classification report."
   ]
  },
  {
   "cell_type": "code",
   "execution_count": 6,
   "id": "f1c03eb5-49c3-4ad9-8240-a13922ba47bd",
   "metadata": {},
   "outputs": [
    {
     "name": "stdout",
     "output_type": "stream",
     "text": [
      "Model accuracy is: 94.86%.\n",
      "Model recall is: 88.7%.\n",
      "Model precision is: 97.7%.\n"
     ]
    }
   ],
   "source": [
    "prep.evaluate(train,'survived', rf1_pred,1)"
   ]
  },
  {
   "cell_type": "code",
   "execution_count": 7,
   "id": "b12e1aac-5f4e-48fb-9d2f-6bad58c3ae25",
   "metadata": {},
   "outputs": [
    {
     "data": {
      "text/plain": [
       "0.9486356340288925"
      ]
     },
     "execution_count": 7,
     "metadata": {},
     "output_type": "execute_result"
    }
   ],
   "source": [
    "rf1.score(x_train,y_train)"
   ]
  },
  {
   "cell_type": "code",
   "execution_count": 8,
   "id": "8c4ec959-88bd-4949-9102-dfd027407bb4",
   "metadata": {},
   "outputs": [
    {
     "data": {
      "text/html": [
       "<div>\n",
       "<style scoped>\n",
       "    .dataframe tbody tr th:only-of-type {\n",
       "        vertical-align: middle;\n",
       "    }\n",
       "\n",
       "    .dataframe tbody tr th {\n",
       "        vertical-align: top;\n",
       "    }\n",
       "\n",
       "    .dataframe thead th {\n",
       "        text-align: right;\n",
       "    }\n",
       "</style>\n",
       "<table border=\"1\" class=\"dataframe\">\n",
       "  <thead>\n",
       "    <tr style=\"text-align: right;\">\n",
       "      <th>col_0</th>\n",
       "      <th>0</th>\n",
       "      <th>1</th>\n",
       "    </tr>\n",
       "    <tr>\n",
       "      <th>survived</th>\n",
       "      <th></th>\n",
       "      <th></th>\n",
       "    </tr>\n",
       "  </thead>\n",
       "  <tbody>\n",
       "    <tr>\n",
       "      <th>0</th>\n",
       "      <td>379</td>\n",
       "      <td>5</td>\n",
       "    </tr>\n",
       "    <tr>\n",
       "      <th>1</th>\n",
       "      <td>27</td>\n",
       "      <td>212</td>\n",
       "    </tr>\n",
       "  </tbody>\n",
       "</table>\n",
       "</div>"
      ],
      "text/plain": [
       "col_0       0    1\n",
       "survived          \n",
       "0         379    5\n",
       "1          27  212"
      ]
     },
     "execution_count": 8,
     "metadata": {},
     "output_type": "execute_result"
    }
   ],
   "source": [
    "pd.crosstab(y_train, rf1_pred)"
   ]
  },
  {
   "cell_type": "code",
   "execution_count": 9,
   "id": "2972ace5-ec0c-44bb-8a41-0323a69bd2dd",
   "metadata": {},
   "outputs": [],
   "source": [
    "# TP:212  TN:379  FP:5  FN:27"
   ]
  },
  {
   "cell_type": "code",
   "execution_count": 10,
   "id": "0b89e4ca-a9bc-4b72-88ab-80645bd5a8e3",
   "metadata": {
    "tags": []
   },
   "outputs": [
    {
     "name": "stdout",
     "output_type": "stream",
     "text": [
      "              precision    recall  f1-score   support\n",
      "\n",
      "           0       0.93      0.99      0.96       384\n",
      "           1       0.98      0.89      0.93       239\n",
      "\n",
      "    accuracy                           0.95       623\n",
      "   macro avg       0.96      0.94      0.94       623\n",
      "weighted avg       0.95      0.95      0.95       623\n",
      "\n"
     ]
    }
   ],
   "source": [
    "print(classification_report(y_train, rf1_pred))"
   ]
  },
  {
   "cell_type": "markdown",
   "id": "d28b15f6-ab1c-4b9e-811e-b0f09376e19c",
   "metadata": {
    "tags": []
   },
   "source": [
    "### 3. Print and clearly label the following: Accuracy, true positive rate, false positive rate, true negative rate, false negative rate, precision, recall, f1-score, and support."
   ]
  },
  {
   "cell_type": "code",
   "execution_count": 11,
   "id": "316b3e6a-c830-404c-a8c7-5ad940104fa7",
   "metadata": {},
   "outputs": [],
   "source": [
    "# Done above"
   ]
  },
  {
   "cell_type": "code",
   "execution_count": 12,
   "id": "0f9e3571-090f-44d4-8e8a-cc37c636b1c1",
   "metadata": {},
   "outputs": [
    {
     "data": {
      "text/html": [
       "<div>\n",
       "<style scoped>\n",
       "    .dataframe tbody tr th:only-of-type {\n",
       "        vertical-align: middle;\n",
       "    }\n",
       "\n",
       "    .dataframe tbody tr th {\n",
       "        vertical-align: top;\n",
       "    }\n",
       "\n",
       "    .dataframe thead th {\n",
       "        text-align: right;\n",
       "    }\n",
       "</style>\n",
       "<table border=\"1\" class=\"dataframe\">\n",
       "  <thead>\n",
       "    <tr style=\"text-align: right;\">\n",
       "      <th></th>\n",
       "      <th>cols</th>\n",
       "      <th>importance</th>\n",
       "    </tr>\n",
       "  </thead>\n",
       "  <tbody>\n",
       "    <tr>\n",
       "      <th>5</th>\n",
       "      <td>sex_male</td>\n",
       "      <td>0.295157</td>\n",
       "    </tr>\n",
       "    <tr>\n",
       "      <th>0</th>\n",
       "      <td>age</td>\n",
       "      <td>0.228031</td>\n",
       "    </tr>\n",
       "    <tr>\n",
       "      <th>3</th>\n",
       "      <td>fare</td>\n",
       "      <td>0.206306</td>\n",
       "    </tr>\n",
       "    <tr>\n",
       "      <th>1</th>\n",
       "      <td>sibsp</td>\n",
       "      <td>0.051978</td>\n",
       "    </tr>\n",
       "    <tr>\n",
       "      <th>6</th>\n",
       "      <td>class_First</td>\n",
       "      <td>0.050077</td>\n",
       "    </tr>\n",
       "    <tr>\n",
       "      <th>8</th>\n",
       "      <td>class_Third</td>\n",
       "      <td>0.046987</td>\n",
       "    </tr>\n",
       "    <tr>\n",
       "      <th>2</th>\n",
       "      <td>parch</td>\n",
       "      <td>0.038519</td>\n",
       "    </tr>\n",
       "    <tr>\n",
       "      <th>11</th>\n",
       "      <td>embark_town_Southampton</td>\n",
       "      <td>0.020958</td>\n",
       "    </tr>\n",
       "    <tr>\n",
       "      <th>4</th>\n",
       "      <td>alone</td>\n",
       "      <td>0.020774</td>\n",
       "    </tr>\n",
       "    <tr>\n",
       "      <th>7</th>\n",
       "      <td>class_Second</td>\n",
       "      <td>0.017502</td>\n",
       "    </tr>\n",
       "    <tr>\n",
       "      <th>9</th>\n",
       "      <td>embark_town_Cherbourg</td>\n",
       "      <td>0.014794</td>\n",
       "    </tr>\n",
       "    <tr>\n",
       "      <th>10</th>\n",
       "      <td>embark_town_Queenstown</td>\n",
       "      <td>0.008917</td>\n",
       "    </tr>\n",
       "  </tbody>\n",
       "</table>\n",
       "</div>"
      ],
      "text/plain": [
       "                       cols  importance\n",
       "5                  sex_male    0.295157\n",
       "0                       age    0.228031\n",
       "3                      fare    0.206306\n",
       "1                     sibsp    0.051978\n",
       "6               class_First    0.050077\n",
       "8               class_Third    0.046987\n",
       "2                     parch    0.038519\n",
       "11  embark_town_Southampton    0.020958\n",
       "4                     alone    0.020774\n",
       "7              class_Second    0.017502\n",
       "9     embark_town_Cherbourg    0.014794\n",
       "10   embark_town_Queenstown    0.008917"
      ]
     },
     "execution_count": 12,
     "metadata": {},
     "output_type": "execute_result"
    }
   ],
   "source": [
    "prep.importance(x_train, rf1)"
   ]
  },
  {
   "cell_type": "markdown",
   "id": "914f9bdc-79a6-4640-bd23-f9a1683e4ecc",
   "metadata": {},
   "source": [
    "### 4. Run through steps increasing your min_samples_leaf and decreasing your max_depth."
   ]
  },
  {
   "cell_type": "code",
   "execution_count": 13,
   "id": "50ff82f1-b3db-4a79-a31e-32f80c09db93",
   "metadata": {},
   "outputs": [
    {
     "data": {
      "text/html": [
       "<div>\n",
       "<style scoped>\n",
       "    .dataframe tbody tr th:only-of-type {\n",
       "        vertical-align: middle;\n",
       "    }\n",
       "\n",
       "    .dataframe tbody tr th {\n",
       "        vertical-align: top;\n",
       "    }\n",
       "\n",
       "    .dataframe thead th {\n",
       "        text-align: right;\n",
       "    }\n",
       "</style>\n",
       "<table border=\"1\" class=\"dataframe\">\n",
       "  <thead>\n",
       "    <tr style=\"text-align: right;\">\n",
       "      <th></th>\n",
       "      <th>model</th>\n",
       "      <th>score</th>\n",
       "      <th>depth</th>\n",
       "      <th>min samples leaf</th>\n",
       "    </tr>\n",
       "  </thead>\n",
       "  <tbody>\n",
       "    <tr>\n",
       "      <th>0</th>\n",
       "      <td>Model 1</td>\n",
       "      <td>0.948636</td>\n",
       "      <td>10</td>\n",
       "      <td>1</td>\n",
       "    </tr>\n",
       "    <tr>\n",
       "      <th>1</th>\n",
       "      <td>Model 2</td>\n",
       "      <td>0.894061</td>\n",
       "      <td>9</td>\n",
       "      <td>2</td>\n",
       "    </tr>\n",
       "    <tr>\n",
       "      <th>2</th>\n",
       "      <td>Model 3</td>\n",
       "      <td>0.874799</td>\n",
       "      <td>8</td>\n",
       "      <td>3</td>\n",
       "    </tr>\n",
       "    <tr>\n",
       "      <th>3</th>\n",
       "      <td>Model 4</td>\n",
       "      <td>0.863563</td>\n",
       "      <td>7</td>\n",
       "      <td>4</td>\n",
       "    </tr>\n",
       "    <tr>\n",
       "      <th>4</th>\n",
       "      <td>Model 5</td>\n",
       "      <td>0.855538</td>\n",
       "      <td>6</td>\n",
       "      <td>5</td>\n",
       "    </tr>\n",
       "    <tr>\n",
       "      <th>5</th>\n",
       "      <td>Model 6</td>\n",
       "      <td>0.836276</td>\n",
       "      <td>5</td>\n",
       "      <td>6</td>\n",
       "    </tr>\n",
       "    <tr>\n",
       "      <th>6</th>\n",
       "      <td>Model 7</td>\n",
       "      <td>0.826645</td>\n",
       "      <td>4</td>\n",
       "      <td>7</td>\n",
       "    </tr>\n",
       "    <tr>\n",
       "      <th>7</th>\n",
       "      <td>Model 8</td>\n",
       "      <td>0.825040</td>\n",
       "      <td>3</td>\n",
       "      <td>8</td>\n",
       "    </tr>\n",
       "    <tr>\n",
       "      <th>8</th>\n",
       "      <td>Model 9</td>\n",
       "      <td>0.791332</td>\n",
       "      <td>2</td>\n",
       "      <td>9</td>\n",
       "    </tr>\n",
       "    <tr>\n",
       "      <th>9</th>\n",
       "      <td>Model 10</td>\n",
       "      <td>0.759230</td>\n",
       "      <td>1</td>\n",
       "      <td>10</td>\n",
       "    </tr>\n",
       "  </tbody>\n",
       "</table>\n",
       "</div>"
      ],
      "text/plain": [
       "       model     score  depth  min samples leaf\n",
       "0    Model 1  0.948636     10                 1\n",
       "1    Model 2  0.894061      9                 2\n",
       "2    Model 3  0.874799      8                 3\n",
       "3    Model 4  0.863563      7                 4\n",
       "4    Model 5  0.855538      6                 5\n",
       "5    Model 6  0.836276      5                 6\n",
       "6    Model 7  0.826645      4                 7\n",
       "7    Model 8  0.825040      3                 8\n",
       "8    Model 9  0.791332      2                 9\n",
       "9   Model 10  0.759230      1                10"
      ]
     },
     "execution_count": 13,
     "metadata": {},
     "output_type": "execute_result"
    }
   ],
   "source": [
    "x = range(1,11)\n",
    "l = 10\n",
    "model_list = []\n",
    "scores = []\n",
    "depth_list = []\n",
    "samples = []\n",
    "\n",
    "for n in x:\n",
    "    model = RandomForestClassifier(max_depth=l, min_samples_leaf=n, random_state=seed)\n",
    "    model.fit(x_train, y_train)\n",
    "    model_list.append(f' Model {n}')\n",
    "    scores.append(model.score(x_train,y_train))\n",
    "    depth_list.append(l)\n",
    "    samples.append(n)\n",
    "    l -= 1\n",
    "    \n",
    "models = pd.DataFrame({'model':model_list,\n",
    "              'score':scores,\n",
    "              'depth':depth_list,\n",
    "              'min samples leaf':samples})\n",
    "\n",
    "models"
   ]
  },
  {
   "cell_type": "markdown",
   "id": "9ffdf596-c2e8-40e1-9966-90984013d02a",
   "metadata": {},
   "source": [
    "### 5. What are the differences in the evaluation metrics? Which performs better on your in-sample data? Why?"
   ]
  },
  {
   "cell_type": "code",
   "execution_count": 17,
   "id": "0f0466d1-0e83-43a5-9546-81104144f99d",
   "metadata": {},
   "outputs": [],
   "source": [
    "# The model with the most depth seems to perform better on TRAINING data. "
   ]
  },
  {
   "cell_type": "markdown",
   "id": "aee68680-37b1-40fe-8201-3e31931affc3",
   "metadata": {},
   "source": [
    "## After making a few models, which one has the best performance (or closest metrics) on both train and validate?"
   ]
  },
  {
   "cell_type": "code",
   "execution_count": 15,
   "id": "e734cce6-0120-408a-9a17-2bc50bec1512",
   "metadata": {},
   "outputs": [
    {
     "data": {
      "text/html": [
       "<div>\n",
       "<style scoped>\n",
       "    .dataframe tbody tr th:only-of-type {\n",
       "        vertical-align: middle;\n",
       "    }\n",
       "\n",
       "    .dataframe tbody tr th {\n",
       "        vertical-align: top;\n",
       "    }\n",
       "\n",
       "    .dataframe thead th {\n",
       "        text-align: right;\n",
       "    }\n",
       "</style>\n",
       "<table border=\"1\" class=\"dataframe\">\n",
       "  <thead>\n",
       "    <tr style=\"text-align: right;\">\n",
       "      <th></th>\n",
       "      <th>model</th>\n",
       "      <th>score train</th>\n",
       "      <th>score val</th>\n",
       "      <th>depth</th>\n",
       "      <th>min samples leaf</th>\n",
       "    </tr>\n",
       "  </thead>\n",
       "  <tbody>\n",
       "    <tr>\n",
       "      <th>0</th>\n",
       "      <td>Model 1</td>\n",
       "      <td>0.948636</td>\n",
       "      <td>0.798507</td>\n",
       "      <td>10</td>\n",
       "      <td>1</td>\n",
       "    </tr>\n",
       "    <tr>\n",
       "      <th>1</th>\n",
       "      <td>Model 2</td>\n",
       "      <td>0.894061</td>\n",
       "      <td>0.805970</td>\n",
       "      <td>9</td>\n",
       "      <td>2</td>\n",
       "    </tr>\n",
       "    <tr>\n",
       "      <th>2</th>\n",
       "      <td>Model 3</td>\n",
       "      <td>0.874799</td>\n",
       "      <td>0.813433</td>\n",
       "      <td>8</td>\n",
       "      <td>3</td>\n",
       "    </tr>\n",
       "    <tr>\n",
       "      <th>3</th>\n",
       "      <td>Model 4</td>\n",
       "      <td>0.863563</td>\n",
       "      <td>0.805970</td>\n",
       "      <td>7</td>\n",
       "      <td>4</td>\n",
       "    </tr>\n",
       "    <tr>\n",
       "      <th>4</th>\n",
       "      <td>Model 5</td>\n",
       "      <td>0.855538</td>\n",
       "      <td>0.791045</td>\n",
       "      <td>6</td>\n",
       "      <td>5</td>\n",
       "    </tr>\n",
       "    <tr>\n",
       "      <th>5</th>\n",
       "      <td>Model 6</td>\n",
       "      <td>0.836276</td>\n",
       "      <td>0.813433</td>\n",
       "      <td>5</td>\n",
       "      <td>6</td>\n",
       "    </tr>\n",
       "    <tr>\n",
       "      <th>6</th>\n",
       "      <td>Model 7</td>\n",
       "      <td>0.826645</td>\n",
       "      <td>0.828358</td>\n",
       "      <td>4</td>\n",
       "      <td>7</td>\n",
       "    </tr>\n",
       "    <tr>\n",
       "      <th>7</th>\n",
       "      <td>Model 8</td>\n",
       "      <td>0.825040</td>\n",
       "      <td>0.820896</td>\n",
       "      <td>3</td>\n",
       "      <td>8</td>\n",
       "    </tr>\n",
       "    <tr>\n",
       "      <th>8</th>\n",
       "      <td>Model 9</td>\n",
       "      <td>0.791332</td>\n",
       "      <td>0.783582</td>\n",
       "      <td>2</td>\n",
       "      <td>9</td>\n",
       "    </tr>\n",
       "    <tr>\n",
       "      <th>9</th>\n",
       "      <td>Model 10</td>\n",
       "      <td>0.759230</td>\n",
       "      <td>0.738806</td>\n",
       "      <td>1</td>\n",
       "      <td>10</td>\n",
       "    </tr>\n",
       "  </tbody>\n",
       "</table>\n",
       "</div>"
      ],
      "text/plain": [
       "       model  score train  score val  depth  min samples leaf\n",
       "0    Model 1     0.948636   0.798507     10                 1\n",
       "1    Model 2     0.894061   0.805970      9                 2\n",
       "2    Model 3     0.874799   0.813433      8                 3\n",
       "3    Model 4     0.863563   0.805970      7                 4\n",
       "4    Model 5     0.855538   0.791045      6                 5\n",
       "5    Model 6     0.836276   0.813433      5                 6\n",
       "6    Model 7     0.826645   0.828358      4                 7\n",
       "7    Model 8     0.825040   0.820896      3                 8\n",
       "8    Model 9     0.791332   0.783582      2                 9\n",
       "9   Model 10     0.759230   0.738806      1                10"
      ]
     },
     "execution_count": 15,
     "metadata": {},
     "output_type": "execute_result"
    }
   ],
   "source": [
    "x = range(1,11)\n",
    "l = 10\n",
    "model_list = []\n",
    "scores_train = []\n",
    "scores_val = []\n",
    "depth_list = []\n",
    "samples = []\n",
    "\n",
    "for n in x:\n",
    "    model = RandomForestClassifier(max_depth=l, min_samples_leaf=n, random_state=seed)\n",
    "    model.fit(x_train, y_train)\n",
    "    model_list.append(f' Model {n}')\n",
    "    scores_train.append(model.score(x_train,y_train))\n",
    "    scores_val.append(model.score(x_val,y_val))\n",
    "    depth_list.append(l)\n",
    "    samples.append(n)\n",
    "    predictions = model.predict(x_train)\n",
    "    #prep.evaluate(train,'survived', predictions, target=1)\n",
    "    #print()\n",
    "    l -= 1\n",
    "    \n",
    "models = pd.DataFrame({'model':model_list,\n",
    "                       'score train':scores_train,\n",
    "                       'score val':scores_val,\n",
    "                       'depth':depth_list,\n",
    "                       'min samples leaf':samples})\n",
    "\n",
    "models"
   ]
  },
  {
   "cell_type": "code",
   "execution_count": 16,
   "id": "dfcad0d1-8f88-4528-985b-b682c2dd78c2",
   "metadata": {},
   "outputs": [
    {
     "data": {
      "text/html": [
       "<div>\n",
       "<style scoped>\n",
       "    .dataframe tbody tr th:only-of-type {\n",
       "        vertical-align: middle;\n",
       "    }\n",
       "\n",
       "    .dataframe tbody tr th {\n",
       "        vertical-align: top;\n",
       "    }\n",
       "\n",
       "    .dataframe thead th {\n",
       "        text-align: right;\n",
       "    }\n",
       "</style>\n",
       "<table border=\"1\" class=\"dataframe\">\n",
       "  <thead>\n",
       "    <tr style=\"text-align: right;\">\n",
       "      <th></th>\n",
       "      <th>model</th>\n",
       "      <th>score train</th>\n",
       "      <th>score val</th>\n",
       "      <th>depth</th>\n",
       "      <th>min samples leaf</th>\n",
       "    </tr>\n",
       "  </thead>\n",
       "  <tbody>\n",
       "    <tr>\n",
       "      <th>0</th>\n",
       "      <td>Model 1</td>\n",
       "      <td>0.948636</td>\n",
       "      <td>0.798507</td>\n",
       "      <td>1</td>\n",
       "      <td>1</td>\n",
       "    </tr>\n",
       "    <tr>\n",
       "      <th>1</th>\n",
       "      <td>Model 2</td>\n",
       "      <td>0.894061</td>\n",
       "      <td>0.805970</td>\n",
       "      <td>2</td>\n",
       "      <td>2</td>\n",
       "    </tr>\n",
       "    <tr>\n",
       "      <th>2</th>\n",
       "      <td>Model 3</td>\n",
       "      <td>0.874799</td>\n",
       "      <td>0.813433</td>\n",
       "      <td>3</td>\n",
       "      <td>3</td>\n",
       "    </tr>\n",
       "    <tr>\n",
       "      <th>3</th>\n",
       "      <td>Model 4</td>\n",
       "      <td>0.863563</td>\n",
       "      <td>0.805970</td>\n",
       "      <td>4</td>\n",
       "      <td>4</td>\n",
       "    </tr>\n",
       "    <tr>\n",
       "      <th>4</th>\n",
       "      <td>Model 5</td>\n",
       "      <td>0.855538</td>\n",
       "      <td>0.791045</td>\n",
       "      <td>5</td>\n",
       "      <td>5</td>\n",
       "    </tr>\n",
       "    <tr>\n",
       "      <th>5</th>\n",
       "      <td>Model 6</td>\n",
       "      <td>0.836276</td>\n",
       "      <td>0.813433</td>\n",
       "      <td>6</td>\n",
       "      <td>6</td>\n",
       "    </tr>\n",
       "    <tr>\n",
       "      <th>6</th>\n",
       "      <td>Model 7</td>\n",
       "      <td>0.826645</td>\n",
       "      <td>0.828358</td>\n",
       "      <td>7</td>\n",
       "      <td>7</td>\n",
       "    </tr>\n",
       "    <tr>\n",
       "      <th>7</th>\n",
       "      <td>Model 8</td>\n",
       "      <td>0.825040</td>\n",
       "      <td>0.820896</td>\n",
       "      <td>8</td>\n",
       "      <td>8</td>\n",
       "    </tr>\n",
       "    <tr>\n",
       "      <th>8</th>\n",
       "      <td>Model 9</td>\n",
       "      <td>0.791332</td>\n",
       "      <td>0.783582</td>\n",
       "      <td>9</td>\n",
       "      <td>9</td>\n",
       "    </tr>\n",
       "    <tr>\n",
       "      <th>9</th>\n",
       "      <td>Model 10</td>\n",
       "      <td>0.759230</td>\n",
       "      <td>0.738806</td>\n",
       "      <td>10</td>\n",
       "      <td>10</td>\n",
       "    </tr>\n",
       "  </tbody>\n",
       "</table>\n",
       "</div>"
      ],
      "text/plain": [
       "       model  score train  score val  depth  min samples leaf\n",
       "0    Model 1     0.948636   0.798507      1                 1\n",
       "1    Model 2     0.894061   0.805970      2                 2\n",
       "2    Model 3     0.874799   0.813433      3                 3\n",
       "3    Model 4     0.863563   0.805970      4                 4\n",
       "4    Model 5     0.855538   0.791045      5                 5\n",
       "5    Model 6     0.836276   0.813433      6                 6\n",
       "6    Model 7     0.826645   0.828358      7                 7\n",
       "7    Model 8     0.825040   0.820896      8                 8\n",
       "8    Model 9     0.791332   0.783582      9                 9\n",
       "9   Model 10     0.759230   0.738806     10                10"
      ]
     },
     "execution_count": 16,
     "metadata": {},
     "output_type": "execute_result"
    }
   ],
   "source": [
    "x = range(1,11)\n",
    "l = 10\n",
    "model_list = []\n",
    "scores_train = []\n",
    "scores_val = []\n",
    "depth_list = []\n",
    "samples = []\n",
    "\n",
    "for n in x:\n",
    "    model = RandomForestClassifier(max_depth=l, min_samples_leaf=n, random_state=seed)\n",
    "    model.fit(x_train, y_train)\n",
    "    model_list.append(f' Model {n}')\n",
    "    scores_train.append(model.score(x_train,y_train))\n",
    "    scores_val.append(model.score(x_val,y_val))\n",
    "    depth_list.append(n)\n",
    "    samples.append(n)\n",
    "    l -= 1\n",
    "    \n",
    "models = pd.DataFrame({'model':model_list,\n",
    "                       'score train':scores_train,\n",
    "                       'score val':scores_val,\n",
    "                       'depth':depth_list,\n",
    "                       'min samples leaf':samples})\n",
    "\n",
    "models"
   ]
  },
  {
   "cell_type": "code",
   "execution_count": null,
   "id": "e70965f8-47e5-4edc-be8e-7ac98661b999",
   "metadata": {},
   "outputs": [],
   "source": []
  }
 ],
 "metadata": {
  "kernelspec": {
   "display_name": "Python 3 (ipykernel)",
   "language": "python",
   "name": "python3"
  },
  "language_info": {
   "codemirror_mode": {
    "name": "ipython",
    "version": 3
   },
   "file_extension": ".py",
   "mimetype": "text/x-python",
   "name": "python",
   "nbconvert_exporter": "python",
   "pygments_lexer": "ipython3",
   "version": "3.10.9"
  }
 },
 "nbformat": 4,
 "nbformat_minor": 5
}
