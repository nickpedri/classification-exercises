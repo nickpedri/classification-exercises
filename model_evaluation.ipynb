{
 "cells": [
  {
   "cell_type": "markdown",
   "id": "cdcfe356-1dd6-449c-af9e-eb617741fea3",
   "metadata": {},
   "source": [
    "# Model Evaluation Exercises"
   ]
  },
  {
   "cell_type": "markdown",
   "id": "7402fc57-29b5-47f2-9525-c08c6553c5a1",
   "metadata": {},
   "source": [
    "1. Create a new file named model_evaluation.py or model_evaluation.ipynb for these exercises."
   ]
  },
  {
   "cell_type": "code",
   "execution_count": 1,
   "id": "6cf92e95-7276-4a5e-bb37-ab57fc17713d",
   "metadata": {},
   "outputs": [],
   "source": [
    "import os\n",
    "import pandas as pd\n",
    "import numpy as np\n",
    "from sklearn.metrics import confusion_matrix"
   ]
  },
  {
   "cell_type": "markdown",
   "id": "59751065-b52b-48d2-b432-0403a67ea58e",
   "metadata": {},
   "source": [
    "2. Given the following confusion matrix, evaluate (by hand) the model's performance.\n",
    "\n",
    "|               | pred dog   | pred cat   |\n",
    "|:------------  |-----------:|-----------:|\n",
    "| actual dog    |         46 |         7  |\n",
    "| actual cat    |         13 |         34 |\n",
    "\n",
    "* In the context of this problem, what is a false positive?\n",
    "* In the context of this problem, what is a false negative?\n",
    "* How would you describe this model?"
   ]
  },
  {
   "cell_type": "code",
   "execution_count": 2,
   "id": "c8b53adf-2bf1-4aa7-a2b7-11ae6fb4fa30",
   "metadata": {},
   "outputs": [],
   "source": [
    "# Assuming this is a model that attempts to predict for dogs."
   ]
  },
  {
   "cell_type": "code",
   "execution_count": 3,
   "id": "3804c2c6-8423-4c07-9f96-afc6ed975f56",
   "metadata": {},
   "outputs": [],
   "source": [
    "# Assuming the positive class is the dog, a false positive would be when the model predicted a dog but it was a cat "
   ]
  },
  {
   "cell_type": "code",
   "execution_count": 4,
   "id": "40a622f8-c3ff-46e3-bd84-15e8f22575bb",
   "metadata": {},
   "outputs": [],
   "source": [
    "# Assuming the positive class is the dog, a false negative would be when the model predicts a cat but it was a dog."
   ]
  },
  {
   "cell_type": "code",
   "execution_count": 5,
   "id": "27bea753-bbcd-4ad5-90e8-b0ac73f376cc",
   "metadata": {},
   "outputs": [
    {
     "data": {
      "text/plain": [
       "0.8"
      ]
     },
     "execution_count": 5,
     "metadata": {},
     "output_type": "execute_result"
    }
   ],
   "source": [
    "Accuracy = (46+34)/(46+34+7+13)\n",
    "Accuracy"
   ]
  },
  {
   "cell_type": "code",
   "execution_count": 6,
   "id": "d8ee74eb-c78b-4b87-bed8-80c81f8f5c90",
   "metadata": {},
   "outputs": [
    {
     "data": {
      "text/plain": [
       "0.7796610169491526"
      ]
     },
     "execution_count": 6,
     "metadata": {},
     "output_type": "execute_result"
    }
   ],
   "source": [
    "Precision = 46/(46+13)\n",
    "Precision"
   ]
  },
  {
   "cell_type": "code",
   "execution_count": 7,
   "id": "cc8ade96-1150-4469-b841-4f28a0517538",
   "metadata": {},
   "outputs": [
    {
     "data": {
      "text/plain": [
       "0.8679245283018868"
      ]
     },
     "execution_count": 7,
     "metadata": {},
     "output_type": "execute_result"
    }
   ],
   "source": [
    "Recall = 46/(46+7)\n",
    "Recall"
   ]
  },
  {
   "cell_type": "markdown",
   "id": "e54d68fb-66cc-40d0-94ab-02eb1161e722",
   "metadata": {},
   "source": [
    "3. You are working as a datascientist working for Codeup Cody Creator (C3 for short), a rubber-duck manufacturing plant.\n",
    "\n",
    "Unfortunately, some of the rubber ducks that are produced will have defects. Your team has built several models that try to predict those defects, and the data from their predictions can be found here.\n",
    "\n",
    "Use the predictions dataset and pandas to help answer the following questions:\n",
    "\n",
    "* An internal team wants to investigate the cause of the manufacturing defects. They tell you that they want to identify as many of the ducks that have a defect as possible. Which evaluation metric would be appropriate here? Which model would be the best fit for this use case?\n",
    "* Recently several stories in the local news have come out highlighting customers who received a rubber duck with a defect, and portraying C3 in a bad light. The PR team has decided to launch a program that gives customers with a defective duck a vacation to Hawaii. They need you to predict which ducks will have defects, but tell you the really don't want to accidentally give out a vacation package when the duck really doesn't have a defect. Which evaluation metric would be appropriate here? Which model would be the best fit for this use case?\n"
   ]
  },
  {
   "cell_type": "code",
   "execution_count": 8,
   "id": "f660d455-1b06-4882-901e-f517aa8e53f4",
   "metadata": {},
   "outputs": [],
   "source": [
    "# Goal: Identify as many defects (true positives) as possible.\n",
    "# Recall evaluation would be the best here."
   ]
  },
  {
   "cell_type": "code",
   "execution_count": 9,
   "id": "a11d2b14-eb6d-4138-bef0-4a0f95ae0c68",
   "metadata": {},
   "outputs": [
    {
     "data": {
      "text/html": [
       "<div>\n",
       "<style scoped>\n",
       "    .dataframe tbody tr th:only-of-type {\n",
       "        vertical-align: middle;\n",
       "    }\n",
       "\n",
       "    .dataframe tbody tr th {\n",
       "        vertical-align: top;\n",
       "    }\n",
       "\n",
       "    .dataframe thead th {\n",
       "        text-align: right;\n",
       "    }\n",
       "</style>\n",
       "<table border=\"1\" class=\"dataframe\">\n",
       "  <thead>\n",
       "    <tr style=\"text-align: right;\">\n",
       "      <th></th>\n",
       "      <th>actual</th>\n",
       "      <th>model1</th>\n",
       "      <th>model2</th>\n",
       "      <th>model3</th>\n",
       "      <th>baseline</th>\n",
       "    </tr>\n",
       "  </thead>\n",
       "  <tbody>\n",
       "    <tr>\n",
       "      <th>0</th>\n",
       "      <td>No Defect</td>\n",
       "      <td>No Defect</td>\n",
       "      <td>Defect</td>\n",
       "      <td>No Defect</td>\n",
       "      <td>No Defect</td>\n",
       "    </tr>\n",
       "    <tr>\n",
       "      <th>1</th>\n",
       "      <td>No Defect</td>\n",
       "      <td>No Defect</td>\n",
       "      <td>Defect</td>\n",
       "      <td>Defect</td>\n",
       "      <td>No Defect</td>\n",
       "    </tr>\n",
       "    <tr>\n",
       "      <th>2</th>\n",
       "      <td>No Defect</td>\n",
       "      <td>No Defect</td>\n",
       "      <td>Defect</td>\n",
       "      <td>No Defect</td>\n",
       "      <td>No Defect</td>\n",
       "    </tr>\n",
       "  </tbody>\n",
       "</table>\n",
       "</div>"
      ],
      "text/plain": [
       "      actual     model1  model2     model3   baseline\n",
       "0  No Defect  No Defect  Defect  No Defect  No Defect\n",
       "1  No Defect  No Defect  Defect     Defect  No Defect\n",
       "2  No Defect  No Defect  Defect  No Defect  No Defect"
      ]
     },
     "execution_count": 9,
     "metadata": {},
     "output_type": "execute_result"
    }
   ],
   "source": [
    "defects = pd.read_csv('c3.csv')\n",
    "defects.actual.value_counts() # No defect baseline\n",
    "defects['baseline'] = 'No Defect'\n",
    "defects.head(3)"
   ]
  },
  {
   "cell_type": "code",
   "execution_count": 10,
   "id": "fdc3640e-5a13-492b-84c3-375738dcacb1",
   "metadata": {},
   "outputs": [
    {
     "data": {
      "text/html": [
       "<div>\n",
       "<style scoped>\n",
       "    .dataframe tbody tr th:only-of-type {\n",
       "        vertical-align: middle;\n",
       "    }\n",
       "\n",
       "    .dataframe tbody tr th {\n",
       "        vertical-align: top;\n",
       "    }\n",
       "\n",
       "    .dataframe thead th {\n",
       "        text-align: right;\n",
       "    }\n",
       "</style>\n",
       "<table border=\"1\" class=\"dataframe\">\n",
       "  <thead>\n",
       "    <tr style=\"text-align: right;\">\n",
       "      <th>model1</th>\n",
       "      <th>Defect</th>\n",
       "      <th>No Defect</th>\n",
       "    </tr>\n",
       "    <tr>\n",
       "      <th>actual</th>\n",
       "      <th></th>\n",
       "      <th></th>\n",
       "    </tr>\n",
       "  </thead>\n",
       "  <tbody>\n",
       "    <tr>\n",
       "      <th>Defect</th>\n",
       "      <td>8</td>\n",
       "      <td>8</td>\n",
       "    </tr>\n",
       "    <tr>\n",
       "      <th>No Defect</th>\n",
       "      <td>2</td>\n",
       "      <td>182</td>\n",
       "    </tr>\n",
       "  </tbody>\n",
       "</table>\n",
       "</div>"
      ],
      "text/plain": [
       "model1     Defect  No Defect\n",
       "actual                      \n",
       "Defect          8          8\n",
       "No Defect       2        182"
      ]
     },
     "execution_count": 10,
     "metadata": {},
     "output_type": "execute_result"
    }
   ],
   "source": [
    "pd.crosstab(defects.actual, defects.model1)"
   ]
  },
  {
   "cell_type": "code",
   "execution_count": 11,
   "id": "6184315c-5e2c-4c69-ad9a-287e843d1a21",
   "metadata": {},
   "outputs": [
    {
     "name": "stdout",
     "output_type": "stream",
     "text": [
      "Model accuracy is: 95.0%.\n",
      "Baseline accuracy is: 92.0%.\n",
      "\n",
      "Model recall is: 50.0%.\n",
      "Baseline recall is: 0.0%.\n",
      "\n",
      "Model precision is: 80.0%.\n",
      "Baseline precision is: nan%.\n"
     ]
    }
   ],
   "source": [
    "model_accuracy = (defects.actual == defects.model1).mean()\n",
    "baseline_accuracy = (defects.actual == defects.baseline).mean()\n",
    "\n",
    "\n",
    "subset_recall = defects[defects.actual == 'Defect']\n",
    "model_recall = (subset_recall.actual == subset_recall.model1).mean()\n",
    "\n",
    "baseline_recall = (subset_recall.actual == subset_recall.baseline).mean()\n",
    "\n",
    "\n",
    "subset_precision = defects[defects.model1 == 'Defect'] \n",
    "model_precision = (subset_precision.actual == subset_precision.model1).mean()\n",
    "\n",
    "subset_baseline = defects[defects.baseline == 'Defect']\n",
    "baseline_precision = (subset_baseline.actual == subset_baseline.baseline).mean()\n",
    "\n",
    "\n",
    "print(f'Model accuracy is: {model_accuracy*100}%.')\n",
    "print(f'Baseline accuracy is: {baseline_accuracy*100}%.')\n",
    "print()\n",
    "print(f'Model recall is: {model_recall*100}%.')\n",
    "print(f'Baseline recall is: {baseline_recall*100}%.')\n",
    "print()\n",
    "print(f'Model precision is: {model_precision*100}%.')\n",
    "print(f'Baseline precision is: {baseline_precision*100}%.')"
   ]
  },
  {
   "cell_type": "code",
   "execution_count": 12,
   "id": "086af0fd-da6b-4c3d-8ff1-c798ccc1ec78",
   "metadata": {},
   "outputs": [],
   "source": [
    "def evaluate(df, data, model='', target='', show_results=True):\n",
    "    df['baseline'] = df[data].mode()[0]  # Creates a baseline prediction from the mode of the data\n",
    "    m_acc = (df[data] == df[model]).mean()\n",
    "    b_acc = (df[data] == df['baseline']).mean()\n",
    "    sub_rec = df[df[data] == target]  # Subset of all positive cases for recall\n",
    "    m_rec = (sub_rec[data] == sub_rec[model]).mean()\n",
    "    b_rec = (sub_rec[data] == sub_rec['baseline']).mean()\n",
    "    s_pre = df[df[model] == target]  # Subset of all positive guesses\n",
    "    m_pre = (s_pre[data] == s_pre[model]).mean()\n",
    "    sub_bas_pre = df[df['baseline'] == target]\n",
    "    if sub_bas_pre.empty:\n",
    "        bas_pre = 0\n",
    "    else:\n",
    "        bas_pre = (sub_bas_pre[data] == sub_bas_pre['baseline']).mean()\n",
    "    if show_results == True:\n",
    "        print(f'Model accuracy is: {round(m_acc*100,2)}%.')\n",
    "        print(f'Baseline accuracy is: {round(b_acc*100,2)}%.')\n",
    "        print()\n",
    "        print(f'Model recall is: {round(m_rec*100,2)}%.')\n",
    "        print(f'Baseline recall is: {round(b_rec*100,2)}%.')\n",
    "        print()\n",
    "        print(f'Model precision is: {round(m_pre*100,2)}%.')\n",
    "        print(f'Baseline precision is: {round(bas_pre*100,2)}%.')\n",
    "        print()\n",
    "    #    print('Function returns: df, m_acc, b_acc, m_rec, b_rec, m_pre, bas_pre')\n",
    "    #return df, m_acc, b_acc, m_rec, b_rec, m_pre, bas_pre"
   ]
  },
  {
   "cell_type": "code",
   "execution_count": 13,
   "id": "343e4679-f2ec-4cf7-b45c-fc33e7d845db",
   "metadata": {},
   "outputs": [
    {
     "data": {
      "text/plain": [
       "'No Defect'"
      ]
     },
     "execution_count": 13,
     "metadata": {},
     "output_type": "execute_result"
    }
   ],
   "source": [
    "defects.actual.mode()[0]"
   ]
  },
  {
   "cell_type": "code",
   "execution_count": 14,
   "id": "6b7af9db-d351-4867-8d42-8c583a7bc1be",
   "metadata": {},
   "outputs": [
    {
     "name": "stdout",
     "output_type": "stream",
     "text": [
      "Model accuracy is: 95.0%.\n",
      "Baseline accuracy is: 92.0%.\n",
      "\n",
      "Model recall is: 50.0%.\n",
      "Baseline recall is: 0.0%.\n",
      "\n",
      "Model precision is: 80.0%.\n",
      "Baseline precision is: 0%.\n",
      "\n"
     ]
    }
   ],
   "source": [
    "evaluate(defects, data='actual', model='model1', target='Defect')"
   ]
  },
  {
   "cell_type": "code",
   "execution_count": 15,
   "id": "8753bfa8-841a-4df7-81cb-b391c1ee1888",
   "metadata": {},
   "outputs": [
    {
     "name": "stdout",
     "output_type": "stream",
     "text": [
      "Model accuracy is: 56.0%.\n",
      "Baseline accuracy is: 92.0%.\n",
      "\n",
      "Model recall is: 56.25%.\n",
      "Baseline recall is: 0.0%.\n",
      "\n",
      "Model precision is: 10.0%.\n",
      "Baseline precision is: 0%.\n",
      "\n"
     ]
    }
   ],
   "source": [
    "evaluate(defects, data='actual', model='model2', target='Defect')"
   ]
  },
  {
   "cell_type": "code",
   "execution_count": 16,
   "id": "2c39d00c-c9ba-4bea-9e4f-10c70b00054f",
   "metadata": {},
   "outputs": [
    {
     "name": "stdout",
     "output_type": "stream",
     "text": [
      "Model accuracy is: 55.5%.\n",
      "Baseline accuracy is: 92.0%.\n",
      "\n",
      "Model recall is: 81.25%.\n",
      "Baseline recall is: 0.0%.\n",
      "\n",
      "Model precision is: 13.13%.\n",
      "Baseline precision is: 0%.\n",
      "\n"
     ]
    }
   ],
   "source": [
    "evaluate(defects, data='actual', model='model3', target='Defect')"
   ]
  },
  {
   "cell_type": "code",
   "execution_count": 17,
   "id": "4f586983-08c5-4d2d-9c94-8d9b77628a88",
   "metadata": {
    "tags": []
   },
   "outputs": [],
   "source": [
    "# The best model for this would be model 3 since it has the best recall score"
   ]
  },
  {
   "cell_type": "code",
   "execution_count": 18,
   "id": "ba4eec48-efc5-40da-a8b8-b4df98095397",
   "metadata": {},
   "outputs": [],
   "source": [
    "# The best metric for minimizing false positives is precision."
   ]
  },
  {
   "cell_type": "code",
   "execution_count": 19,
   "id": "93d22363-465d-499a-9d47-dc227bdea2fe",
   "metadata": {},
   "outputs": [],
   "source": [
    "# The most accurate model is model 1 with 80% precision. This will minimize false positives"
   ]
  },
  {
   "cell_type": "markdown",
   "id": "22597772-267c-43d2-9bbe-481edc95b1cc",
   "metadata": {},
   "source": [
    "4. You are working as a data scientist for Gives You Paws ™, a subscription based service that shows you cute pictures of dogs or cats (or both for an additional fee).\n",
    "\n",
    "At Gives You Paws, anyone can upload pictures of their cats or dogs. The photos are then put through a two step process. First an automated algorithm tags pictures as either a cat or a dog (Phase I). Next, the photos that have been initially identified are put through another round of review, possibly with some human oversight, before being presented to the users (Phase II).\n",
    "\n",
    "Several models have already been developed with the data, and you can find their results here.\n",
    "\n",
    "Given this dataset, use pandas to create a baseline model (i.e. a model that just predicts the most common class) and answer the following questions:\n",
    "\n",
    "a. In terms of accuracy, how do the various models compare to the baseline model? Are any of the models better than the baseline?\n",
    "\n",
    "b. Suppose you are working on a team that solely deals with dog pictures. Which of these models would you recommend?\n",
    "\n",
    "c. Suppose you are working on a team that solely deals with cat pictures. Which of these models would you recommend?"
   ]
  },
  {
   "cell_type": "code",
   "execution_count": 20,
   "id": "b64eb48f-8bd1-4315-95ec-9271363cec1c",
   "metadata": {},
   "outputs": [
    {
     "data": {
      "text/html": [
       "<div>\n",
       "<style scoped>\n",
       "    .dataframe tbody tr th:only-of-type {\n",
       "        vertical-align: middle;\n",
       "    }\n",
       "\n",
       "    .dataframe tbody tr th {\n",
       "        vertical-align: top;\n",
       "    }\n",
       "\n",
       "    .dataframe thead th {\n",
       "        text-align: right;\n",
       "    }\n",
       "</style>\n",
       "<table border=\"1\" class=\"dataframe\">\n",
       "  <thead>\n",
       "    <tr style=\"text-align: right;\">\n",
       "      <th></th>\n",
       "      <th>actual</th>\n",
       "      <th>model1</th>\n",
       "      <th>model2</th>\n",
       "      <th>model3</th>\n",
       "      <th>model4</th>\n",
       "    </tr>\n",
       "  </thead>\n",
       "  <tbody>\n",
       "    <tr>\n",
       "      <th>0</th>\n",
       "      <td>cat</td>\n",
       "      <td>cat</td>\n",
       "      <td>dog</td>\n",
       "      <td>cat</td>\n",
       "      <td>dog</td>\n",
       "    </tr>\n",
       "    <tr>\n",
       "      <th>1</th>\n",
       "      <td>dog</td>\n",
       "      <td>dog</td>\n",
       "      <td>cat</td>\n",
       "      <td>cat</td>\n",
       "      <td>dog</td>\n",
       "    </tr>\n",
       "    <tr>\n",
       "      <th>2</th>\n",
       "      <td>dog</td>\n",
       "      <td>cat</td>\n",
       "      <td>cat</td>\n",
       "      <td>cat</td>\n",
       "      <td>dog</td>\n",
       "    </tr>\n",
       "  </tbody>\n",
       "</table>\n",
       "</div>"
      ],
      "text/plain": [
       "  actual model1 model2 model3 model4\n",
       "0    cat    cat    dog    cat    dog\n",
       "1    dog    dog    cat    cat    dog\n",
       "2    dog    cat    cat    cat    dog"
      ]
     },
     "execution_count": 20,
     "metadata": {},
     "output_type": "execute_result"
    }
   ],
   "source": [
    "paws = pd.read_csv('gives_you_paws.csv')\n",
    "paws.head(3)"
   ]
  },
  {
   "cell_type": "code",
   "execution_count": 21,
   "id": "ad0f74da-9248-4548-bfa0-a8deb8ecb53d",
   "metadata": {},
   "outputs": [
    {
     "name": "stdout",
     "output_type": "stream",
     "text": [
      "Model accuracy is: 80.74%.\n",
      "Baseline accuracy is: 65.08%.\n",
      "\n",
      "Model recall is: 80.33%.\n",
      "Baseline recall is: 100.0%.\n",
      "\n",
      "Model precision is: 89.0%.\n",
      "Baseline precision is: 65.08%.\n",
      "\n"
     ]
    }
   ],
   "source": [
    "evaluate(paws, data='actual', model='model1', target='dog')"
   ]
  },
  {
   "cell_type": "code",
   "execution_count": 22,
   "id": "4804ffc7-db55-4fe4-b68a-690fa601002a",
   "metadata": {},
   "outputs": [
    {
     "name": "stdout",
     "output_type": "stream",
     "text": [
      "Model accuracy is: 63.04%.\n",
      "Baseline accuracy is: 65.08%.\n",
      "\n",
      "Model recall is: 49.08%.\n",
      "Baseline recall is: 100.0%.\n",
      "\n",
      "Model precision is: 89.32%.\n",
      "Baseline precision is: 65.08%.\n",
      "\n"
     ]
    }
   ],
   "source": [
    "evaluate(paws, data='actual', model='model2', target='dog')"
   ]
  },
  {
   "cell_type": "code",
   "execution_count": 23,
   "id": "9d8f9508-2fe1-49bf-a677-2806ae5d4049",
   "metadata": {},
   "outputs": [
    {
     "name": "stdout",
     "output_type": "stream",
     "text": [
      "Model accuracy is: 50.96%.\n",
      "Baseline accuracy is: 65.08%.\n",
      "\n",
      "Model recall is: 50.86%.\n",
      "Baseline recall is: 100.0%.\n",
      "\n",
      "Model precision is: 65.99%.\n",
      "Baseline precision is: 65.08%.\n",
      "\n"
     ]
    }
   ],
   "source": [
    "evaluate(paws, data='actual', model='model3', target='dog')"
   ]
  },
  {
   "cell_type": "code",
   "execution_count": 24,
   "id": "d11d03b6-6a16-43c9-a043-29bc77ea54c8",
   "metadata": {},
   "outputs": [
    {
     "name": "stdout",
     "output_type": "stream",
     "text": [
      "Model accuracy is: 74.26%.\n",
      "Baseline accuracy is: 65.08%.\n",
      "\n",
      "Model recall is: 95.57%.\n",
      "Baseline recall is: 100.0%.\n",
      "\n",
      "Model precision is: 73.12%.\n",
      "Baseline precision is: 65.08%.\n",
      "\n"
     ]
    }
   ],
   "source": [
    "evaluate(paws, data='actual', model='model4', target='dog')"
   ]
  },
  {
   "cell_type": "code",
   "execution_count": 25,
   "id": "acc2443b-2a19-4df4-a5d0-2d47e69c68f4",
   "metadata": {},
   "outputs": [],
   "source": [
    "# Models 1 and 4 are better in accuracy than the baseline"
   ]
  },
  {
   "cell_type": "code",
   "execution_count": 26,
   "id": "9f8e5ccc-fe8b-47d2-97e5-6fbcbc007f09",
   "metadata": {},
   "outputs": [],
   "source": [
    "# Models 1 & 2 are great at identifying dogs with the highest precision ratings at 89.0% and 89.32% respectively."
   ]
  },
  {
   "cell_type": "code",
   "execution_count": 27,
   "id": "8ea031eb-4812-459c-9dcd-b0429a7818ae",
   "metadata": {},
   "outputs": [
    {
     "name": "stdout",
     "output_type": "stream",
     "text": [
      "Model accuracy is: 80.74%.\n",
      "Baseline accuracy is: 65.08%.\n",
      "\n",
      "Model recall is: 81.5%.\n",
      "Baseline recall is: 0.0%.\n",
      "\n",
      "Model precision is: 68.98%.\n",
      "Baseline precision is: 0%.\n",
      "\n"
     ]
    }
   ],
   "source": [
    "evaluate(paws, data='actual', model='model1', target='cat')"
   ]
  },
  {
   "cell_type": "code",
   "execution_count": 28,
   "id": "6574be0d-fc51-4642-850b-07ee46eb38bc",
   "metadata": {},
   "outputs": [
    {
     "name": "stdout",
     "output_type": "stream",
     "text": [
      "Model accuracy is: 63.04%.\n",
      "Baseline accuracy is: 65.08%.\n",
      "\n",
      "Model recall is: 89.06%.\n",
      "Baseline recall is: 0.0%.\n",
      "\n",
      "Model precision is: 48.41%.\n",
      "Baseline precision is: 0%.\n",
      "\n"
     ]
    }
   ],
   "source": [
    "evaluate(paws, data='actual', model='model2', target='cat')"
   ]
  },
  {
   "cell_type": "code",
   "execution_count": 29,
   "id": "a4e32505-05ce-4733-bccf-4da59d901124",
   "metadata": {},
   "outputs": [
    {
     "name": "stdout",
     "output_type": "stream",
     "text": [
      "Model accuracy is: 50.96%.\n",
      "Baseline accuracy is: 65.08%.\n",
      "\n",
      "Model recall is: 51.15%.\n",
      "Baseline recall is: 0.0%.\n",
      "\n",
      "Model precision is: 35.83%.\n",
      "Baseline precision is: 0%.\n",
      "\n"
     ]
    }
   ],
   "source": [
    "evaluate(paws, data='actual', model='model3', target='cat')"
   ]
  },
  {
   "cell_type": "code",
   "execution_count": 30,
   "id": "87c0e975-5008-42f8-89c5-ae3218cba22e",
   "metadata": {},
   "outputs": [
    {
     "name": "stdout",
     "output_type": "stream",
     "text": [
      "Model accuracy is: 74.26%.\n",
      "Baseline accuracy is: 65.08%.\n",
      "\n",
      "Model recall is: 34.54%.\n",
      "Baseline recall is: 0.0%.\n",
      "\n",
      "Model precision is: 80.72%.\n",
      "Baseline precision is: 0%.\n",
      "\n"
     ]
    }
   ],
   "source": [
    "evaluate(paws, data='actual', model='model4', target='cat')"
   ]
  },
  {
   "cell_type": "code",
   "execution_count": 31,
   "id": "f69967c4-d638-47b8-b617-db6a48e439c3",
   "metadata": {},
   "outputs": [],
   "source": [
    "# Model 4 is the best at identifying cats with a precision rating of 80.72%"
   ]
  }
 ],
 "metadata": {
  "kernelspec": {
   "display_name": "Python 3 (ipykernel)",
   "language": "python",
   "name": "python3"
  },
  "language_info": {
   "codemirror_mode": {
    "name": "ipython",
    "version": 3
   },
   "file_extension": ".py",
   "mimetype": "text/x-python",
   "name": "python",
   "nbconvert_exporter": "python",
   "pygments_lexer": "ipython3",
   "version": "3.10.9"
  }
 },
 "nbformat": 4,
 "nbformat_minor": 5
}
